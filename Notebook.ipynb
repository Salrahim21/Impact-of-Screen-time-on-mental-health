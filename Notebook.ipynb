{
 "cells": [
  {
   "cell_type": "markdown",
   "id": "a3f16588",
   "metadata": {},
   "source": [
    "### Summary\n",
    "**Imports libraries**: pandas, matplotlib.pyplot, seaborn."
   ]
  },
  {
   "cell_type": "code",
   "execution_count": 1,
   "id": "cac05bb9",
   "metadata": {},
   "outputs": [],
   "source": [
    "import pandas as pd \n",
    "import matplotlib.pyplot as plt\n",
    "import seaborn as sns"
   ]
  },
  {
   "cell_type": "markdown",
   "id": "f30ce5ef",
   "metadata": {},
   "source": [
    "### Summary\n",
    "**Load Dataset**: "
   ]
  },
  {
   "cell_type": "code",
   "execution_count": 2,
   "id": "c5636c43",
   "metadata": {},
   "outputs": [],
   "source": [
    "health=pd.read_csv('Data/digital_diet_mental_health.csv')"
   ]
  },
  {
   "cell_type": "markdown",
   "id": "4fed2701",
   "metadata": {},
   "source": [
    "### Summary\n",
    "**Understand the dataset**: ."
   ]
  },
  {
   "cell_type": "code",
   "execution_count": 3,
   "id": "2c1d1595",
   "metadata": {},
   "outputs": [],
   "source": [
    "def explore_dataframe(df, name=\"DataFrame\"): #user defined function to get the shape,info and description of the dataset\n",
    "    print(f\"\\n===== {name} Overview =====\")\n",
    "    \n",
    "    print(\"\\nShape:\")\n",
    "    print(df.shape)\n",
    "    \n",
    "    print(\"\\nInfo:\")\n",
    "    print(\"-\" * 40)\n",
    "    df.info()\n",
    "    \n",
    "    print(\"\\nDescription:\")\n",
    "    print(\"-\" * 40)\n",
    "    print(df.describe(include='all'))"
   ]
  },
  {
   "cell_type": "markdown",
   "id": "b5df59a3",
   "metadata": {},
   "source": [
    "### Summary\n",
    "**Defines functions**: explore_dataframe."
   ]
  },
  {
   "cell_type": "code",
   "execution_count": 4,
   "id": "5e59802e",
   "metadata": {},
   "outputs": [
    {
     "name": "stdout",
     "output_type": "stream",
     "text": [
      "\n",
      "===== Health Overview =====\n",
      "\n",
      "Shape:\n",
      "(2000, 25)\n",
      "\n",
      "Info:\n",
      "----------------------------------------\n",
      "<class 'pandas.core.frame.DataFrame'>\n",
      "RangeIndex: 2000 entries, 0 to 1999\n",
      "Data columns (total 25 columns):\n",
      " #   Column                            Non-Null Count  Dtype  \n",
      "---  ------                            --------------  -----  \n",
      " 0   user_id                           2000 non-null   object \n",
      " 1   age                               2000 non-null   int64  \n",
      " 2   gender                            2000 non-null   object \n",
      " 3   daily_screen_time_hours           2000 non-null   float64\n",
      " 4   phone_usage_hours                 2000 non-null   float64\n",
      " 5   laptop_usage_hours                2000 non-null   float64\n",
      " 6   tablet_usage_hours                2000 non-null   float64\n",
      " 7   tv_usage_hours                    2000 non-null   float64\n",
      " 8   social_media_hours                2000 non-null   float64\n",
      " 9   work_related_hours                2000 non-null   float64\n",
      " 10  entertainment_hours               2000 non-null   float64\n",
      " 11  gaming_hours                      2000 non-null   float64\n",
      " 12  sleep_duration_hours              2000 non-null   float64\n",
      " 13  sleep_quality                     2000 non-null   int64  \n",
      " 14  mood_rating                       2000 non-null   int64  \n",
      " 15  stress_level                      2000 non-null   int64  \n",
      " 16  physical_activity_hours_per_week  2000 non-null   float64\n",
      " 17  location_type                     2000 non-null   object \n",
      " 18  mental_health_score               2000 non-null   int64  \n",
      " 19  uses_wellness_apps                2000 non-null   int64  \n",
      " 20  eats_healthy                      2000 non-null   int64  \n",
      " 21  caffeine_intake_mg_per_day        2000 non-null   float64\n",
      " 22  weekly_anxiety_score              2000 non-null   int64  \n",
      " 23  weekly_depression_score           2000 non-null   int64  \n",
      " 24  mindfulness_minutes_per_day       2000 non-null   float64\n",
      "dtypes: float64(13), int64(9), object(3)\n",
      "memory usage: 390.8+ KB\n",
      "\n",
      "Description:\n",
      "----------------------------------------\n",
      "       user_id          age  gender  daily_screen_time_hours  \\\n",
      "count     2000  2000.000000    2000              2000.000000   \n",
      "unique    2000          NaN       3                      NaN   \n",
      "top     user_1          NaN  Female                      NaN   \n",
      "freq         1          NaN     935                      NaN   \n",
      "mean       NaN    38.805500     NaN                 6.025600   \n",
      "std        NaN    14.929203     NaN                 1.974123   \n",
      "min        NaN    13.000000     NaN                 0.000000   \n",
      "25%        NaN    26.000000     NaN                 4.700000   \n",
      "50%        NaN    39.000000     NaN                 6.000000   \n",
      "75%        NaN    51.000000     NaN                 7.325000   \n",
      "max        NaN    64.000000     NaN                13.300000   \n",
      "\n",
      "        phone_usage_hours  laptop_usage_hours  tablet_usage_hours  \\\n",
      "count         2000.000000         2000.000000         2000.000000   \n",
      "unique                NaN                 NaN                 NaN   \n",
      "top                   NaN                 NaN                 NaN   \n",
      "freq                  NaN                 NaN                 NaN   \n",
      "mean             3.023700            1.999950            0.995650   \n",
      "std              1.449399            0.997949            0.492714   \n",
      "min              0.000000            0.000000            0.000000   \n",
      "25%              2.000000            1.300000            0.600000   \n",
      "50%              3.000000            2.000000            1.000000   \n",
      "75%              4.000000            2.700000            1.300000   \n",
      "max              8.400000            5.600000            2.500000   \n",
      "\n",
      "        tv_usage_hours  social_media_hours  work_related_hours  ...  \\\n",
      "count      2000.000000         2000.000000         2000.000000  ...   \n",
      "unique             NaN                 NaN                 NaN  ...   \n",
      "top                NaN                 NaN                 NaN  ...   \n",
      "freq               NaN                 NaN                 NaN  ...   \n",
      "mean          1.503700            2.039200            2.010250  ...   \n",
      "std           0.959003            1.133435            1.116111  ...   \n",
      "min           0.000000            0.000000            0.000000  ...   \n",
      "25%           0.800000            1.200000            1.200000  ...   \n",
      "50%           1.500000            2.000000            2.000000  ...   \n",
      "75%           2.200000            2.800000            2.800000  ...   \n",
      "max           4.700000            5.800000            5.900000  ...   \n",
      "\n",
      "        stress_level  physical_activity_hours_per_week  location_type  \\\n",
      "count    2000.000000                       2000.000000           2000   \n",
      "unique           NaN                               NaN              3   \n",
      "top              NaN                               NaN          Urban   \n",
      "freq             NaN                               NaN            999   \n",
      "mean        5.541500                          3.087150            NaN   \n",
      "std         2.885731                          1.885258            NaN   \n",
      "min         1.000000                          0.000000            NaN   \n",
      "25%         3.000000                          1.600000            NaN   \n",
      "50%         6.000000                          3.000000            NaN   \n",
      "75%         8.000000                          4.400000            NaN   \n",
      "max        10.000000                          9.700000            NaN   \n",
      "\n",
      "        mental_health_score  uses_wellness_apps  eats_healthy  \\\n",
      "count           2000.000000         2000.000000   2000.000000   \n",
      "unique                  NaN                 NaN           NaN   \n",
      "top                     NaN                 NaN           NaN   \n",
      "freq                    NaN                 NaN           NaN   \n",
      "mean              49.650500            0.387500      0.507500   \n",
      "std               17.546717            0.487301      0.500069   \n",
      "min               20.000000            0.000000      0.000000   \n",
      "25%               35.000000            0.000000      0.000000   \n",
      "50%               49.000000            0.000000      1.000000   \n",
      "75%               64.250000            1.000000      1.000000   \n",
      "max               80.000000            1.000000      1.000000   \n",
      "\n",
      "        caffeine_intake_mg_per_day weekly_anxiety_score  \\\n",
      "count                   2000.00000          2000.000000   \n",
      "unique                         NaN                  NaN   \n",
      "top                            NaN                  NaN   \n",
      "freq                           NaN                  NaN   \n",
      "mean                     148.07970             9.887500   \n",
      "std                       48.86066             6.027853   \n",
      "min                        0.80000             0.000000   \n",
      "25%                      113.90000             5.000000   \n",
      "50%                      147.45000            10.000000   \n",
      "75%                      180.70000            15.000000   \n",
      "max                      364.90000            20.000000   \n",
      "\n",
      "        weekly_depression_score  mindfulness_minutes_per_day  \n",
      "count                2000.00000                  2000.000000  \n",
      "unique                      NaN                          NaN  \n",
      "top                         NaN                          NaN  \n",
      "freq                        NaN                          NaN  \n",
      "mean                   10.04900                    10.753750  \n",
      "std                     6.05334                     7.340269  \n",
      "min                     0.00000                     0.000000  \n",
      "25%                     5.00000                     4.900000  \n",
      "50%                    10.00000                    10.400000  \n",
      "75%                    15.00000                    15.800000  \n",
      "max                    20.00000                    36.400000  \n",
      "\n",
      "[11 rows x 25 columns]\n"
     ]
    }
   ],
   "source": [
    "explore_dataframe(health, name=\"Health\") #calling the function"
   ]
  },
  {
   "cell_type": "markdown",
   "id": "df8358f5",
   "metadata": {},
   "source": [
    "### Summary\n",
    "**Sample of the dataset.**"
   ]
  },
  {
   "cell_type": "code",
   "execution_count": 5,
   "id": "653c4d05",
   "metadata": {},
   "outputs": [
    {
     "data": {
      "text/html": [
       "<div>\n",
       "<style scoped>\n",
       "    .dataframe tbody tr th:only-of-type {\n",
       "        vertical-align: middle;\n",
       "    }\n",
       "\n",
       "    .dataframe tbody tr th {\n",
       "        vertical-align: top;\n",
       "    }\n",
       "\n",
       "    .dataframe thead th {\n",
       "        text-align: right;\n",
       "    }\n",
       "</style>\n",
       "<table border=\"1\" class=\"dataframe\">\n",
       "  <thead>\n",
       "    <tr style=\"text-align: right;\">\n",
       "      <th></th>\n",
       "      <th>user_id</th>\n",
       "      <th>age</th>\n",
       "      <th>gender</th>\n",
       "      <th>daily_screen_time_hours</th>\n",
       "      <th>phone_usage_hours</th>\n",
       "      <th>laptop_usage_hours</th>\n",
       "      <th>tablet_usage_hours</th>\n",
       "      <th>tv_usage_hours</th>\n",
       "      <th>social_media_hours</th>\n",
       "      <th>work_related_hours</th>\n",
       "      <th>...</th>\n",
       "      <th>stress_level</th>\n",
       "      <th>physical_activity_hours_per_week</th>\n",
       "      <th>location_type</th>\n",
       "      <th>mental_health_score</th>\n",
       "      <th>uses_wellness_apps</th>\n",
       "      <th>eats_healthy</th>\n",
       "      <th>caffeine_intake_mg_per_day</th>\n",
       "      <th>weekly_anxiety_score</th>\n",
       "      <th>weekly_depression_score</th>\n",
       "      <th>mindfulness_minutes_per_day</th>\n",
       "    </tr>\n",
       "  </thead>\n",
       "  <tbody>\n",
       "    <tr>\n",
       "      <th>0</th>\n",
       "      <td>user_1</td>\n",
       "      <td>51</td>\n",
       "      <td>Female</td>\n",
       "      <td>4.8</td>\n",
       "      <td>3.4</td>\n",
       "      <td>1.3</td>\n",
       "      <td>1.6</td>\n",
       "      <td>1.6</td>\n",
       "      <td>4.1</td>\n",
       "      <td>2.0</td>\n",
       "      <td>...</td>\n",
       "      <td>10</td>\n",
       "      <td>0.7</td>\n",
       "      <td>Urban</td>\n",
       "      <td>32</td>\n",
       "      <td>1</td>\n",
       "      <td>1</td>\n",
       "      <td>125.2</td>\n",
       "      <td>13</td>\n",
       "      <td>15</td>\n",
       "      <td>4.0</td>\n",
       "    </tr>\n",
       "    <tr>\n",
       "      <th>1</th>\n",
       "      <td>user_2</td>\n",
       "      <td>64</td>\n",
       "      <td>Male</td>\n",
       "      <td>3.9</td>\n",
       "      <td>3.5</td>\n",
       "      <td>1.8</td>\n",
       "      <td>0.9</td>\n",
       "      <td>2.0</td>\n",
       "      <td>2.7</td>\n",
       "      <td>3.1</td>\n",
       "      <td>...</td>\n",
       "      <td>6</td>\n",
       "      <td>4.3</td>\n",
       "      <td>Suburban</td>\n",
       "      <td>75</td>\n",
       "      <td>0</td>\n",
       "      <td>1</td>\n",
       "      <td>150.4</td>\n",
       "      <td>19</td>\n",
       "      <td>18</td>\n",
       "      <td>6.5</td>\n",
       "    </tr>\n",
       "    <tr>\n",
       "      <th>2</th>\n",
       "      <td>user_3</td>\n",
       "      <td>41</td>\n",
       "      <td>Other</td>\n",
       "      <td>10.5</td>\n",
       "      <td>2.1</td>\n",
       "      <td>2.6</td>\n",
       "      <td>0.7</td>\n",
       "      <td>2.2</td>\n",
       "      <td>3.0</td>\n",
       "      <td>2.8</td>\n",
       "      <td>...</td>\n",
       "      <td>5</td>\n",
       "      <td>3.1</td>\n",
       "      <td>Suburban</td>\n",
       "      <td>22</td>\n",
       "      <td>0</td>\n",
       "      <td>0</td>\n",
       "      <td>187.9</td>\n",
       "      <td>7</td>\n",
       "      <td>3</td>\n",
       "      <td>6.9</td>\n",
       "    </tr>\n",
       "    <tr>\n",
       "      <th>3</th>\n",
       "      <td>user_4</td>\n",
       "      <td>27</td>\n",
       "      <td>Other</td>\n",
       "      <td>8.8</td>\n",
       "      <td>0.0</td>\n",
       "      <td>0.0</td>\n",
       "      <td>0.7</td>\n",
       "      <td>2.5</td>\n",
       "      <td>3.3</td>\n",
       "      <td>1.6</td>\n",
       "      <td>...</td>\n",
       "      <td>5</td>\n",
       "      <td>0.0</td>\n",
       "      <td>Rural</td>\n",
       "      <td>22</td>\n",
       "      <td>0</td>\n",
       "      <td>1</td>\n",
       "      <td>73.6</td>\n",
       "      <td>7</td>\n",
       "      <td>2</td>\n",
       "      <td>4.8</td>\n",
       "    </tr>\n",
       "    <tr>\n",
       "      <th>4</th>\n",
       "      <td>user_5</td>\n",
       "      <td>55</td>\n",
       "      <td>Male</td>\n",
       "      <td>5.9</td>\n",
       "      <td>1.7</td>\n",
       "      <td>1.1</td>\n",
       "      <td>1.5</td>\n",
       "      <td>1.6</td>\n",
       "      <td>1.1</td>\n",
       "      <td>3.6</td>\n",
       "      <td>...</td>\n",
       "      <td>7</td>\n",
       "      <td>3.0</td>\n",
       "      <td>Urban</td>\n",
       "      <td>64</td>\n",
       "      <td>1</td>\n",
       "      <td>1</td>\n",
       "      <td>217.5</td>\n",
       "      <td>8</td>\n",
       "      <td>10</td>\n",
       "      <td>0.0</td>\n",
       "    </tr>\n",
       "  </tbody>\n",
       "</table>\n",
       "<p>5 rows × 25 columns</p>\n",
       "</div>"
      ],
      "text/plain": [
       "  user_id  age  gender  daily_screen_time_hours  phone_usage_hours  \\\n",
       "0  user_1   51  Female                      4.8                3.4   \n",
       "1  user_2   64    Male                      3.9                3.5   \n",
       "2  user_3   41   Other                     10.5                2.1   \n",
       "3  user_4   27   Other                      8.8                0.0   \n",
       "4  user_5   55    Male                      5.9                1.7   \n",
       "\n",
       "   laptop_usage_hours  tablet_usage_hours  tv_usage_hours  social_media_hours  \\\n",
       "0                 1.3                 1.6             1.6                 4.1   \n",
       "1                 1.8                 0.9             2.0                 2.7   \n",
       "2                 2.6                 0.7             2.2                 3.0   \n",
       "3                 0.0                 0.7             2.5                 3.3   \n",
       "4                 1.1                 1.5             1.6                 1.1   \n",
       "\n",
       "   work_related_hours  ...  stress_level  physical_activity_hours_per_week  \\\n",
       "0                 2.0  ...            10                               0.7   \n",
       "1                 3.1  ...             6                               4.3   \n",
       "2                 2.8  ...             5                               3.1   \n",
       "3                 1.6  ...             5                               0.0   \n",
       "4                 3.6  ...             7                               3.0   \n",
       "\n",
       "   location_type  mental_health_score  uses_wellness_apps  eats_healthy  \\\n",
       "0          Urban                   32                   1             1   \n",
       "1       Suburban                   75                   0             1   \n",
       "2       Suburban                   22                   0             0   \n",
       "3          Rural                   22                   0             1   \n",
       "4          Urban                   64                   1             1   \n",
       "\n",
       "   caffeine_intake_mg_per_day weekly_anxiety_score  weekly_depression_score  \\\n",
       "0                       125.2                   13                       15   \n",
       "1                       150.4                   19                       18   \n",
       "2                       187.9                    7                        3   \n",
       "3                        73.6                    7                        2   \n",
       "4                       217.5                    8                       10   \n",
       "\n",
       "   mindfulness_minutes_per_day  \n",
       "0                          4.0  \n",
       "1                          6.5  \n",
       "2                          6.9  \n",
       "3                          4.8  \n",
       "4                          0.0  \n",
       "\n",
       "[5 rows x 25 columns]"
      ]
     },
     "execution_count": 5,
     "metadata": {},
     "output_type": "execute_result"
    }
   ],
   "source": [
    "health.head()"
   ]
  },
  {
   "cell_type": "markdown",
   "id": "bd83e16e",
   "metadata": {},
   "source": [
    "### Summary\n",
    "**check for missing values.**"
   ]
  },
  {
   "cell_type": "code",
   "execution_count": 6,
   "id": "97596ec6",
   "metadata": {},
   "outputs": [
    {
     "name": "stdout",
     "output_type": "stream",
     "text": [
      "user_id                             0.0\n",
      "sleep_quality                       0.0\n",
      "weekly_depression_score             0.0\n",
      "weekly_anxiety_score                0.0\n",
      "caffeine_intake_mg_per_day          0.0\n",
      "eats_healthy                        0.0\n",
      "uses_wellness_apps                  0.0\n",
      "mental_health_score                 0.0\n",
      "location_type                       0.0\n",
      "physical_activity_hours_per_week    0.0\n",
      "stress_level                        0.0\n",
      "mood_rating                         0.0\n",
      "sleep_duration_hours                0.0\n",
      "age                                 0.0\n",
      "gaming_hours                        0.0\n",
      "entertainment_hours                 0.0\n",
      "work_related_hours                  0.0\n",
      "social_media_hours                  0.0\n",
      "tv_usage_hours                      0.0\n",
      "tablet_usage_hours                  0.0\n",
      "laptop_usage_hours                  0.0\n",
      "phone_usage_hours                   0.0\n",
      "daily_screen_time_hours             0.0\n",
      "gender                              0.0\n",
      "mindfulness_minutes_per_day         0.0\n",
      "dtype: float64\n"
     ]
    }
   ],
   "source": [
    "# Calculate missing percentages\n",
    "missing_percentage = (health.isnull().sum() / len(health)) * 100\n",
    "\n",
    "# Display missing values sorted in descending order\n",
    "print(missing_percentage.sort_values(ascending=False))"
   ]
  },
  {
   "cell_type": "code",
   "execution_count": null,
   "id": "48636bc1",
   "metadata": {},
   "outputs": [],
   "source": [
    "sns.pairplot(health)"
   ]
  },
  {
   "cell_type": "code",
   "execution_count": 8,
   "id": "ce441871",
   "metadata": {},
   "outputs": [
    {
     "data": {
      "text/plain": [
       "Index(['user_id', 'age', 'gender', 'daily_screen_time_hours',\n",
       "       'phone_usage_hours', 'laptop_usage_hours', 'tablet_usage_hours',\n",
       "       'tv_usage_hours', 'social_media_hours', 'work_related_hours',\n",
       "       'entertainment_hours', 'gaming_hours', 'sleep_duration_hours',\n",
       "       'sleep_quality', 'mood_rating', 'stress_level',\n",
       "       'physical_activity_hours_per_week', 'location_type',\n",
       "       'mental_health_score', 'uses_wellness_apps', 'eats_healthy',\n",
       "       'caffeine_intake_mg_per_day', 'weekly_anxiety_score',\n",
       "       'weekly_depression_score', 'mindfulness_minutes_per_day'],\n",
       "      dtype='object')"
      ]
     },
     "execution_count": 8,
     "metadata": {},
     "output_type": "execute_result"
    }
   ],
   "source": [
    "health.columns"
   ]
  },
  {
   "cell_type": "markdown",
   "id": "db9d7082",
   "metadata": {},
   "source": [
    "### Summary\n",
    "**Executes specific operations or analysis.**"
   ]
  },
  {
   "cell_type": "code",
   "execution_count": 9,
   "id": "a878d678",
   "metadata": {},
   "outputs": [],
   "source": [
    "bins = [10, 20, 30, 40, 50, 60, 70, 80, 90]\n",
    "labels = ['10s', '20s', '30s', '40s', '50s', '60s', '70s', '80s']\n",
    "health['age_group'] = pd.cut(health['age'], bins=bins, labels=labels, right=False)"
   ]
  },
  {
   "cell_type": "markdown",
   "id": "a7861b12",
   "metadata": {},
   "source": [
    "### Summary\n",
    "**Assigns variables**: , , ."
   ]
  },
  {
   "cell_type": "code",
   "execution_count": 10,
   "id": "705c667e",
   "metadata": {},
   "outputs": [],
   "source": [
    "X=health[['gender','daily_screen_time_hours','phone_usage_hours','laptop_usage_hours','tablet_usage_hours','tv_usage_hours','social_media_hours','work_related_hours','gaming_hours','sleep_duration_hours','sleep_quality','stress_level','physical_activity_hours_per_week','caffeine_intake_mg_per_day']]\n",
    "y=health['mental_health_score']"
   ]
  },
  {
   "cell_type": "markdown",
   "id": "1b42e2c2",
   "metadata": {},
   "source": [
    "### Summary\n",
    "**Assigns variables**: , ."
   ]
  },
  {
   "cell_type": "code",
   "execution_count": 11,
   "id": "78adaffb",
   "metadata": {},
   "outputs": [
    {
     "data": {
      "text/html": [
       "<div>\n",
       "<style scoped>\n",
       "    .dataframe tbody tr th:only-of-type {\n",
       "        vertical-align: middle;\n",
       "    }\n",
       "\n",
       "    .dataframe tbody tr th {\n",
       "        vertical-align: top;\n",
       "    }\n",
       "\n",
       "    .dataframe thead th {\n",
       "        text-align: right;\n",
       "    }\n",
       "</style>\n",
       "<table border=\"1\" class=\"dataframe\">\n",
       "  <thead>\n",
       "    <tr style=\"text-align: right;\">\n",
       "      <th></th>\n",
       "      <th>gender</th>\n",
       "      <th>daily_screen_time_hours</th>\n",
       "      <th>phone_usage_hours</th>\n",
       "      <th>laptop_usage_hours</th>\n",
       "      <th>tablet_usage_hours</th>\n",
       "      <th>tv_usage_hours</th>\n",
       "      <th>social_media_hours</th>\n",
       "      <th>work_related_hours</th>\n",
       "      <th>gaming_hours</th>\n",
       "      <th>sleep_duration_hours</th>\n",
       "      <th>sleep_quality</th>\n",
       "      <th>stress_level</th>\n",
       "      <th>physical_activity_hours_per_week</th>\n",
       "      <th>caffeine_intake_mg_per_day</th>\n",
       "    </tr>\n",
       "  </thead>\n",
       "  <tbody>\n",
       "    <tr>\n",
       "      <th>0</th>\n",
       "      <td>Female</td>\n",
       "      <td>4.8</td>\n",
       "      <td>3.4</td>\n",
       "      <td>1.3</td>\n",
       "      <td>1.6</td>\n",
       "      <td>1.6</td>\n",
       "      <td>4.1</td>\n",
       "      <td>2.0</td>\n",
       "      <td>1.7</td>\n",
       "      <td>6.6</td>\n",
       "      <td>6</td>\n",
       "      <td>10</td>\n",
       "      <td>0.7</td>\n",
       "      <td>125.2</td>\n",
       "    </tr>\n",
       "    <tr>\n",
       "      <th>1</th>\n",
       "      <td>Male</td>\n",
       "      <td>3.9</td>\n",
       "      <td>3.5</td>\n",
       "      <td>1.8</td>\n",
       "      <td>0.9</td>\n",
       "      <td>2.0</td>\n",
       "      <td>2.7</td>\n",
       "      <td>3.1</td>\n",
       "      <td>1.5</td>\n",
       "      <td>4.5</td>\n",
       "      <td>7</td>\n",
       "      <td>6</td>\n",
       "      <td>4.3</td>\n",
       "      <td>150.4</td>\n",
       "    </tr>\n",
       "    <tr>\n",
       "      <th>2</th>\n",
       "      <td>Other</td>\n",
       "      <td>10.5</td>\n",
       "      <td>2.1</td>\n",
       "      <td>2.6</td>\n",
       "      <td>0.7</td>\n",
       "      <td>2.2</td>\n",
       "      <td>3.0</td>\n",
       "      <td>2.8</td>\n",
       "      <td>1.7</td>\n",
       "      <td>7.1</td>\n",
       "      <td>9</td>\n",
       "      <td>5</td>\n",
       "      <td>3.1</td>\n",
       "      <td>187.9</td>\n",
       "    </tr>\n",
       "    <tr>\n",
       "      <th>3</th>\n",
       "      <td>Other</td>\n",
       "      <td>8.8</td>\n",
       "      <td>0.0</td>\n",
       "      <td>0.0</td>\n",
       "      <td>0.7</td>\n",
       "      <td>2.5</td>\n",
       "      <td>3.3</td>\n",
       "      <td>1.6</td>\n",
       "      <td>0.4</td>\n",
       "      <td>5.1</td>\n",
       "      <td>9</td>\n",
       "      <td>5</td>\n",
       "      <td>0.0</td>\n",
       "      <td>73.6</td>\n",
       "    </tr>\n",
       "  </tbody>\n",
       "</table>\n",
       "</div>"
      ],
      "text/plain": [
       "   gender  daily_screen_time_hours  phone_usage_hours  laptop_usage_hours  \\\n",
       "0  Female                      4.8                3.4                 1.3   \n",
       "1    Male                      3.9                3.5                 1.8   \n",
       "2   Other                     10.5                2.1                 2.6   \n",
       "3   Other                      8.8                0.0                 0.0   \n",
       "\n",
       "   tablet_usage_hours  tv_usage_hours  social_media_hours  work_related_hours  \\\n",
       "0                 1.6             1.6                 4.1                 2.0   \n",
       "1                 0.9             2.0                 2.7                 3.1   \n",
       "2                 0.7             2.2                 3.0                 2.8   \n",
       "3                 0.7             2.5                 3.3                 1.6   \n",
       "\n",
       "   gaming_hours  sleep_duration_hours  sleep_quality  stress_level  \\\n",
       "0           1.7                   6.6              6            10   \n",
       "1           1.5                   4.5              7             6   \n",
       "2           1.7                   7.1              9             5   \n",
       "3           0.4                   5.1              9             5   \n",
       "\n",
       "   physical_activity_hours_per_week  caffeine_intake_mg_per_day  \n",
       "0                               0.7                       125.2  \n",
       "1                               4.3                       150.4  \n",
       "2                               3.1                       187.9  \n",
       "3                               0.0                        73.6  "
      ]
     },
     "execution_count": 11,
     "metadata": {},
     "output_type": "execute_result"
    }
   ],
   "source": [
    "X.head(4)"
   ]
  },
  {
   "cell_type": "markdown",
   "id": "6fc39df6",
   "metadata": {},
   "source": [
    "### Summary\n",
    "**One hot encoding using scikit learn.**"
   ]
  },
  {
   "cell_type": "code",
   "execution_count": 12,
   "id": "07642cbd",
   "metadata": {},
   "outputs": [
    {
     "name": "stdout",
     "output_type": "stream",
     "text": [
      "   daily_screen_time_hours  phone_usage_hours  laptop_usage_hours  \\\n",
      "0                      4.8                3.4                 1.3   \n",
      "1                      3.9                3.5                 1.8   \n",
      "2                     10.5                2.1                 2.6   \n",
      "3                      8.8                0.0                 0.0   \n",
      "4                      5.9                1.7                 1.1   \n",
      "\n",
      "   tablet_usage_hours  tv_usage_hours  social_media_hours  work_related_hours  \\\n",
      "0                 1.6             1.6                 4.1                 2.0   \n",
      "1                 0.9             2.0                 2.7                 3.1   \n",
      "2                 0.7             2.2                 3.0                 2.8   \n",
      "3                 0.7             2.5                 3.3                 1.6   \n",
      "4                 1.5             1.6                 1.1                 3.6   \n",
      "\n",
      "   gaming_hours  sleep_duration_hours  sleep_quality  stress_level  \\\n",
      "0           1.7                   6.6              6            10   \n",
      "1           1.5                   4.5              7             6   \n",
      "2           1.7                   7.1              9             5   \n",
      "3           0.4                   5.1              9             5   \n",
      "4           0.8                   7.4              2             7   \n",
      "\n",
      "   physical_activity_hours_per_week  caffeine_intake_mg_per_day  gender_Male  \\\n",
      "0                               0.7                       125.2          0.0   \n",
      "1                               4.3                       150.4          1.0   \n",
      "2                               3.1                       187.9          0.0   \n",
      "3                               0.0                        73.6          0.0   \n",
      "4                               3.0                       217.5          1.0   \n",
      "\n",
      "   gender_Other  \n",
      "0           0.0  \n",
      "1           0.0  \n",
      "2           1.0  \n",
      "3           1.0  \n",
      "4           0.0  \n"
     ]
    }
   ],
   "source": [
    "import pandas as pd\n",
    "from sklearn.preprocessing import OneHotEncoder\n",
    "\n",
    "# Suppose X is your dataframe with 'gender' and 'age_group' columns\n",
    "\n",
    "# Step 1: Initialize OneHotEncoder (for both gender and age_group)\n",
    "encoder = OneHotEncoder(sparse_output=False, drop='first')\n",
    "\n",
    "# Step 2: Fit and transform 'gender' and 'age_group' columns together\n",
    "encoded_array = encoder.fit_transform(X[['gender']])\n",
    "\n",
    "# Step 3: Create a DataFrame from the encoded array\n",
    "encoded_df = pd.DataFrame(encoded_array, \n",
    "                          columns=encoder.get_feature_names_out(['gender']),\n",
    "                          index=X.index)\n",
    "\n",
    "# Step 4: Drop original 'gender' and 'age_group' columns and concatenate encoded columns\n",
    "X_encoded = pd.concat([X.drop(columns=['gender']), encoded_df], axis=1)\n",
    "\n",
    "# Display the final result\n",
    "print(X_encoded.head())\n",
    "\n",
    "\n"
   ]
  },
  {
   "cell_type": "markdown",
   "id": "f9200304",
   "metadata": {},
   "source": [
    "### Summary\n",
    "**Performs test train split**"
   ]
  },
  {
   "cell_type": "code",
   "execution_count": 13,
   "id": "58f1b25f",
   "metadata": {},
   "outputs": [],
   "source": [
    "from sklearn.model_selection import train_test_split\n",
    "\n",
    "\n",
    "\n",
    "# 80% training, 20% testing\n",
    "X_train, X_test, y_train, y_test = train_test_split(\n",
    "    X_encoded,     # Feature matrix after encoding\n",
    "    y,             # Target vector\n",
    "    test_size=0.2, # 20% test size\n",
    "    random_state=42, # For reproducibility\n",
    "    stratify=y     # Optional: maintain class proportions\n",
    ")\n"
   ]
  },
  {
   "cell_type": "markdown",
   "id": "8171a3b7",
   "metadata": {},
   "source": [
    "### Summary\n",
    "**Use standard Scaler** .\n"
   ]
  },
  {
   "cell_type": "code",
   "execution_count": 14,
   "id": "8d3e1812",
   "metadata": {},
   "outputs": [],
   "source": [
    "from sklearn.preprocessing import StandardScaler\n",
    "\n",
    "Scaler=StandardScaler()\n",
    "\n",
    "X_train=Scaler.fit_transform(X_train)\n",
    "X_test=Scaler.transform(X_test)\n"
   ]
  },
  {
   "cell_type": "markdown",
   "id": "77feddc8",
   "metadata": {},
   "source": [
    "### Summary\n",
    "**Modelling using a base Linear Regression model**: , , ."
   ]
  },
  {
   "cell_type": "code",
   "execution_count": null,
   "id": "9f43f1ba",
   "metadata": {},
   "outputs": [
    {
     "name": "stdout",
     "output_type": "stream",
     "text": [
      "Mean Absolute Error: 15.355568592108014\n"
     ]
    }
   ],
   "source": [
    "from sklearn.linear_model import LinearRegression\n",
    "from sklearn.metrics import mean_absolute_error\n",
    "\n",
    "\n",
    "\n",
    "model = LinearRegression()\n",
    "model.fit(X_train, y_train)\n",
    "\n",
    "y_pred = model.predict(X_test)\n",
    "\n",
    "mae = mean_absolute_error(y_test, y_pred)\n",
    "print(\"Mean Absolute Error:\", mae)\n"
   ]
  },
  {
   "cell_type": "code",
   "execution_count": 16,
   "id": "09fdfde4",
   "metadata": {},
   "outputs": [
    {
     "data": {
      "text/plain": [
       "17.546717453606483"
      ]
     },
     "execution_count": 16,
     "metadata": {},
     "output_type": "execute_result"
    }
   ],
   "source": [
    "health['mental_health_score'].std()\n"
   ]
  },
  {
   "cell_type": "markdown",
   "id": "5f3c10d7",
   "metadata": {},
   "source": [
    "### Summary\n",
    "**Better understanding of the Y variable**"
   ]
  },
  {
   "cell_type": "code",
   "execution_count": 17,
   "id": "7ae1e825",
   "metadata": {},
   "outputs": [
    {
     "name": "stdout",
     "output_type": "stream",
     "text": [
      "Min score: 20\n",
      "Max score: 80\n",
      "Unique scores: [32 75 22 64 72 45 23 35 47 27 73 59 50 42 21 28 46 78 41 63 53 52 57 54\n",
      " 77 66 26 67 31 36 40 62 58 61 70 49 74 39 68 37 69 80 71 44 55 33 60 34\n",
      " 30 48 56 38 20 43 79 51 65 25 24 76 29]\n"
     ]
    }
   ],
   "source": [
    "print(\"Min score:\", health['mental_health_score'].min())\n",
    "print(\"Max score:\", health['mental_health_score'].max())\n",
    "print(\"Unique scores:\", health['mental_health_score'].unique())\n"
   ]
  },
  {
   "cell_type": "markdown",
   "id": "6f9596ea",
   "metadata": {},
   "source": [
    "### Summary\n",
    "**Using Random Forest Classifier to improve the results.**"
   ]
  },
  {
   "cell_type": "code",
   "execution_count": 18,
   "id": "362dc5bc",
   "metadata": {},
   "outputs": [
    {
     "name": "stdout",
     "output_type": "stream",
     "text": [
      "              precision    recall  f1-score   support\n",
      "\n",
      "        High       1.00      1.00      1.00       238\n",
      "         Low       1.00      1.00      1.00        81\n",
      "      Medium       1.00      1.00      1.00        81\n",
      "\n",
      "    accuracy                           1.00       400\n",
      "   macro avg       1.00      1.00      1.00       400\n",
      "weighted avg       1.00      1.00      1.00       400\n",
      "\n"
     ]
    }
   ],
   "source": [
    "import pandas as pd\n",
    "import numpy as np\n",
    "from sklearn.impute import SimpleImputer\n",
    "from sklearn.preprocessing import StandardScaler, OneHotEncoder\n",
    "from sklearn.compose import ColumnTransformer\n",
    "from sklearn.model_selection import train_test_split\n",
    "from sklearn.ensemble import RandomForestClassifier\n",
    "from sklearn.pipeline import Pipeline\n",
    "from sklearn.metrics import classification_report\n",
    "\n",
    "# Load your data\n",
    "health = pd.read_csv('Data/digital_diet_mental_health.csv')\n",
    "\n",
    "# Convert relevant columns to numeric safely\n",
    "health['stress_level'] = pd.to_numeric(health['stress_level'], errors='coerce')\n",
    "health['sleep_quality'] = pd.to_numeric(health['sleep_quality'], errors='coerce')\n",
    "health['caffeine_intake_mg_per_day'] = pd.to_numeric(health['caffeine_intake_mg_per_day'], errors='coerce')\n",
    "\n",
    "# Handle missing values in inputs used for mental_health_score\n",
    "health['stress_level'].fillna(5, inplace=True)\n",
    "health['sleep_quality'].fillna(5, inplace=True)\n",
    "health['caffeine_intake_mg_per_day'].fillna(200, inplace=True)\n",
    "\n",
    "# Feature engineering: Create synthetic mental health score\n",
    "health['mental_health_score'] = (\n",
    "    10 - health['stress_level'] +\n",
    "    health['sleep_quality'] / 2 -\n",
    "    health['caffeine_intake_mg_per_day'] / 1000\n",
    ") * 10\n",
    "\n",
    "# Bin mental health score into categories\n",
    "health['mh_category'] = pd.cut(\n",
    "    health['mental_health_score'],\n",
    "    bins=[-np.inf, 40, 60, np.inf],\n",
    "    labels=['Low', 'Medium', 'High']\n",
    ")\n",
    "\n",
    "# Drop any rows with missing category label\n",
    "health = health.dropna(subset=['mh_category'])\n",
    "\n",
    "# Optional: Create age groups from numeric age for categorical feature\n",
    "health['age_group'] = pd.cut(\n",
    "    health['age'],\n",
    "    bins=[0, 18, 35, 50, 100],\n",
    "    labels=['Child/Teen', 'Young Adult', 'Adult', 'Senior']\n",
    ")\n",
    "\n",
    "# Features and target\n",
    "numerical_features = ['daily_screen_time_hours', 'sleep_quality', 'caffeine_intake_mg_per_day', 'stress_level']\n",
    "categorical_features = ['gender', 'age_group']\n",
    "target = 'mh_category'\n",
    "\n",
    "# Imputation and encoding pipeline\n",
    "num_imputer = SimpleImputer(strategy='mean')\n",
    "cat_imputer = SimpleImputer(strategy='most_frequent')\n",
    "\n",
    "preprocessor = ColumnTransformer(transformers=[\n",
    "    ('num', Pipeline(steps=[\n",
    "        ('imputer', num_imputer),\n",
    "        ('scaler', StandardScaler())\n",
    "    ]), numerical_features),\n",
    "    ('cat', Pipeline(steps=[\n",
    "        ('imputer', cat_imputer),\n",
    "        ('onehot', OneHotEncoder(drop='first'))\n",
    "    ]), categorical_features)\n",
    "])\n",
    "\n",
    "# Full pipeline with classifier\n",
    "clf_pipeline = Pipeline(steps=[\n",
    "    ('preprocessor', preprocessor),\n",
    "    ('classifier', RandomForestClassifier(n_estimators=100, random_state=42))\n",
    "])\n",
    "\n",
    "# Prepare X and y\n",
    "X = health[numerical_features + categorical_features]\n",
    "y = health['mh_category']\n",
    "\n",
    "# Split data\n",
    "X_train, X_test, y_train, y_test = train_test_split(\n",
    "    X, y, test_size=0.2, stratify=y, random_state=42\n",
    ")\n",
    "\n",
    "# Fit and evaluate\n",
    "clf_pipeline.fit(X_train, y_train)\n",
    "y_pred = clf_pipeline.predict(X_test)\n",
    "\n",
    "# Show classification report\n",
    "print(classification_report(y_test, y_pred))\n"
   ]
  },
  {
   "cell_type": "markdown",
   "id": "6b9429b9",
   "metadata": {},
   "source": [
    "### Summary\n",
    "**Imports libraries**: pandas, numpy, SimpleImputer, StandardScaler, ColumnTransformer, train_test_split, RandomForestClassifier, Pipeline, classification_report. **Assigns variables**: , , , , , , , , , , , , , , , , , , ."
   ]
  },
  {
   "cell_type": "code",
   "execution_count": 19,
   "id": "02917859",
   "metadata": {},
   "outputs": [
    {
     "name": "stdout",
     "output_type": "stream",
     "text": [
      "Fitting 5 folds for each of 108 candidates, totalling 540 fits\n",
      "Best parameters found: {'classifier__max_depth': 10, 'classifier__min_samples_leaf': 1, 'classifier__min_samples_split': 5, 'classifier__n_estimators': 100}\n",
      "Best CV F1 score: 0.9993161160198486\n",
      "              precision    recall  f1-score   support\n",
      "\n",
      "        High       1.00      1.00      1.00       238\n",
      "         Low       1.00      1.00      1.00        81\n",
      "      Medium       1.00      1.00      1.00        81\n",
      "\n",
      "    accuracy                           1.00       400\n",
      "   macro avg       1.00      1.00      1.00       400\n",
      "weighted avg       1.00      1.00      1.00       400\n",
      "\n"
     ]
    }
   ],
   "source": [
    "from sklearn.model_selection import GridSearchCV\n",
    "\n",
    "# Define parameter grid for Random Forest\n",
    "param_grid = {\n",
    "    'classifier__n_estimators': [50, 100, 200],\n",
    "    'classifier__max_depth': [None, 10, 20, 30],\n",
    "    'classifier__min_samples_split': [2, 5, 10],\n",
    "    'classifier__min_samples_leaf': [1, 2, 4]\n",
    "}\n",
    "\n",
    "# Setup GridSearchCV with 5-fold CV\n",
    "grid_search = GridSearchCV(\n",
    "    clf_pipeline,\n",
    "    param_grid,\n",
    "    cv=5,\n",
    "    n_jobs=-1,\n",
    "    scoring='f1_macro',  # Use macro F1 score for balanced multi-class evaluation\n",
    "    verbose=2\n",
    ")\n",
    "\n",
    "# Fit grid search on training data\n",
    "grid_search.fit(X_train, y_train)\n",
    "\n",
    "# Best parameters and score\n",
    "print(\"Best parameters found:\", grid_search.best_params_)\n",
    "print(\"Best CV F1 score:\", grid_search.best_score_)\n",
    "\n",
    "# Evaluate best estimator on test set\n",
    "best_model = grid_search.best_estimator_\n",
    "y_pred = best_model.predict(X_test)\n",
    "\n",
    "from sklearn.metrics import classification_report\n",
    "print(classification_report(y_test, y_pred))\n",
    "\n"
   ]
  },
  {
   "cell_type": "code",
   "execution_count": 20,
   "id": "d0bbdcb3",
   "metadata": {},
   "outputs": [
    {
     "data": {
      "image/png": "[encoded data removed]",
      "text/plain": [
       "<Figure size 720x432 with 1 Axes>"
      ]
     },
     "metadata": {
      "needs_background": "light"
     },
     "output_type": "display_data"
    }
   ],
   "source": [
    "import matplotlib.pyplot as plt\n",
    "import pandas as pd\n",
    "\n",
    "# Get feature names from preprocessor (numerical + one-hot encoded categorical)\n",
    "ohe = best_model.named_steps['preprocessor'].named_transformers_['cat'].named_steps['onehot']\n",
    "ohe_feature_names = ohe.get_feature_names_out(categorical_features)\n",
    "\n",
    "all_feature_names = numerical_features + list(ohe_feature_names)\n",
    "\n",
    "# Get importances\n",
    "importances = best_model.named_steps['classifier'].feature_importances_\n",
    "\n",
    "# Create DataFrame\n",
    "feature_importance_df = pd.DataFrame({\n",
    "    'Feature': all_feature_names,\n",
    "    'Importance': importances\n",
    "}).sort_values(by='Importance', ascending=True)\n",
    "\n",
    "# Plot\n",
    "plt.figure(figsize=(10, 6))\n",
    "plt.barh(feature_importance_df['Feature'], feature_importance_df['Importance'], color='skyblue')\n",
    "plt.title(\"Feature Importances from Random Forest\")\n",
    "plt.xlabel(\"Importance Score\")\n",
    "plt.tight_layout()\n",
    "plt.show()\n"
   ]
  },
  {
   "cell_type": "markdown",
   "id": "e7acf760",
   "metadata": {},
   "source": [
    "### Summary\n",
    "**Imports libraries**: matplotlib.pyplot, pandas. **Assigns variables**: , , , , ."
   ]
  },
  {
   "cell_type": "code",
   "execution_count": 21,
   "id": "0f4ab936",
   "metadata": {},
   "outputs": [
    {
     "data": {
      "image/png": "[encoded data removed]",
      "text/plain": [
       "<Figure size 432x288 with 2 Axes>"
      ]
     },
     "metadata": {
      "needs_background": "light"
     },
     "output_type": "display_data"
    }
   ],
   "source": [
    "from sklearn.metrics import ConfusionMatrixDisplay\n",
    "\n",
    "ConfusionMatrixDisplay.from_estimator(best_model, X_test, y_test, cmap='Blues')\n",
    "plt.title(\"Confusion Matrix\")\n",
    "plt.tight_layout()\n",
    "plt.show()\n"
   ]
  },
  {
   "cell_type": "markdown",
   "id": "e79ef9c6",
   "metadata": {},
   "source": [
    "### Summary\n",
    "**Imports libraries**: ConfusionMatrixDisplay."
   ]
  }
 ],
 "metadata": {
  "kernelspec": {
   "display_name": "learn-env",
   "language": "python",
   "name": "python3"
  },
  "language_info": {
   "codemirror_mode": {
    "name": "ipython",
    "version": 3
   },
   "file_extension": ".py",
   "mimetype": "text/x-python",
   "name": "python",
   "nbconvert_exporter": "python",
   "pygments_lexer": "ipython3",
   "version": "3.8.5"
  }
 },
 "nbformat": 4,
 "nbformat_minor": 5
}
